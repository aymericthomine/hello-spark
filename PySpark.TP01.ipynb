{
 "cells": [
  {
   "cell_type": "markdown",
   "id": "7719666f",
   "metadata": {},
   "source": [
    "# Pyspark\n",
    "## HelloWorld :)"
   ]
  },
  {
   "cell_type": "code",
   "execution_count": 15,
   "id": "3cb87caf",
   "metadata": {},
   "outputs": [],
   "source": [
    "import pyspark "
   ]
  },
  {
   "cell_type": "code",
   "execution_count": 19,
   "id": "c2663cf0",
   "metadata": {},
   "outputs": [],
   "source": [
    "sc = pyspark.SparkContext.getOrCreate()"
   ]
  },
  {
   "cell_type": "code",
   "execution_count": 21,
   "id": "20bf3cd9",
   "metadata": {},
   "outputs": [],
   "source": [
    "rdd = sc.parallelize(range(1000))"
   ]
  },
  {
   "cell_type": "code",
   "execution_count": 25,
   "id": "d946493d",
   "metadata": {},
   "outputs": [
    {
     "data": {
      "text/plain": [
       "[824, 112, 844, 643, 527]"
      ]
     },
     "execution_count": 25,
     "metadata": {},
     "output_type": "execute_result"
    }
   ],
   "source": [
    "# Just running a smaple things\n",
    "rdd.takeSample(False, 5)"
   ]
  },
  {
   "cell_type": "markdown",
   "id": "a518be56",
   "metadata": {},
   "source": [
    "## Introduction to data cleaning"
   ]
  },
  {
   "cell_type": "code",
   "execution_count": 44,
   "id": "f2cc4a8f",
   "metadata": {},
   "outputs": [
    {
     "name": "stdout",
     "output_type": "stream",
     "text": [
      "data.csv  PySpark.TP01.ipynb  Sample.ipynb\r\n"
     ]
    }
   ],
   "source": [
    "!ls"
   ]
  },
  {
   "cell_type": "code",
   "execution_count": 48,
   "id": "baf93afe",
   "metadata": {
    "scrolled": true
   },
   "outputs": [
    {
     "name": "stdout",
     "output_type": "stream",
     "text": [
      "+-----+-----------+--------+\n",
      "| name|age (years)|    city|\n",
      "+-----+-----------+--------+\n",
      "|Carry|         32|New York|\n",
      "|Majdi|         35| \"Paris\"|\n",
      "| null|         42|    null|\n",
      "+-----+-----------+--------+\n",
      "\n"
     ]
    }
   ],
   "source": [
    "from pyspark.sql.session import SparkSession\n",
    "\n",
    "spark = SparkSession(sc)\n",
    "df = spark.read.format('csv').options(Header=True).load('./data.csv')\n",
    "df.show()"
   ]
  },
  {
   "cell_type": "code",
   "execution_count": null,
   "id": "76c8c0a2",
   "metadata": {},
   "outputs": [],
   "source": []
  }
 ],
 "metadata": {
  "kernelspec": {
   "display_name": "Python 3 (ipykernel)",
   "language": "python",
   "name": "python3"
  },
  "language_info": {
   "codemirror_mode": {
    "name": "ipython",
    "version": 3
   },
   "file_extension": ".py",
   "mimetype": "text/x-python",
   "name": "python",
   "nbconvert_exporter": "python",
   "pygments_lexer": "ipython3",
   "version": "3.9.6"
  }
 },
 "nbformat": 4,
 "nbformat_minor": 5
}
